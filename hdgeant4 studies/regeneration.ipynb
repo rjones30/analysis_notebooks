{
 "cells": [
  {
   "cell_type": "markdown",
   "id": "7a2033d6-8cf2-4430-baad-9cf8bbddbdb4",
   "metadata": {},
   "source": [
    "## Regeneration survival probablily for neutral kaons in KLF"
   ]
  },
  {
   "cell_type": "markdown",
   "id": "c7e549e6-db07-4a65-ba17-0c1ce7b0456f",
   "metadata": {},
   "source": [
    "1. Assume that a klong is produced inside a block of beryllium and propagates forward, what is the probability of survival at a given depth?"
   ]
  },
  {
   "cell_type": "code",
   "execution_count": 2,
   "id": "d1024a9c-31da-4873-8289-0bdd426ff0aa",
   "metadata": {},
   "outputs": [
    {
     "name": "stdout",
     "output_type": "stream",
     "text": [
      "162.1621621621621\n",
      "26.33851468048359\n"
     ]
    }
   ],
   "source": [
    "ns = 1\n",
    "cm = 1\n",
    "g = 1\n",
    "mbarn = 1e-27*cm**2\n",
    "NAvagadro = 6e23\n",
    "\n",
    "klong_lifetime = 51.8*ns\n",
    "kshort_lifetime = 0.09*ns\n",
    "\n",
    "XSregen_Be = 50*mbarn\n",
    "density_Be = 1.85*g/cm**3\n",
    "atomass_Be = 9*g\n",
    "regen_length_Be = cm / (XSregen_Be * density_Be/atomass_Be * NAvagadro)\n",
    "print(regen_length_Be)\n",
    "\n",
    "XSregen_W = 600*mbarn\n",
    "density_W = 19.3*g/cm**3\n",
    "atomass_W = 183*g\n",
    "regen_length_W = cm / (XSregen_W * density_W/atomass_W * NAvagadro)\n",
    "print(regen_length_W)"
   ]
  },
  {
   "cell_type": "code",
   "execution_count": null,
   "id": "f644e830-4dfb-40be-a993-297e96e5877a",
   "metadata": {},
   "outputs": [],
   "source": []
  }
 ],
 "metadata": {
  "kernelspec": {
   "display_name": "Python 3 (ipykernel)",
   "language": "python",
   "name": "python3"
  },
  "language_info": {
   "codemirror_mode": {
    "name": "ipython",
    "version": 3
   },
   "file_extension": ".py",
   "mimetype": "text/x-python",
   "name": "python",
   "nbconvert_exporter": "python",
   "pygments_lexer": "ipython3",
   "version": "3.9.18"
  }
 },
 "nbformat": 4,
 "nbformat_minor": 5
}
