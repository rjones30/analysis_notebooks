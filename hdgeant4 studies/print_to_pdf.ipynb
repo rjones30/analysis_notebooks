{
 "cells": [
  {
   "cell_type": "markdown",
   "id": "74874d5f-3d43-4891-9aaf-723928895632",
   "metadata": {},
   "source": [
    "# Print notebook to pdf with custom formatting"
   ]
  },
  {
   "cell_type": "code",
   "execution_count": 1,
   "id": "c1f68c91-3fc0-4e8e-ad45-e28f05cb3ea6",
   "metadata": {},
   "outputs": [],
   "source": [
    "notebook_to_print = \"jupyter/hdgeant4 studies/Klong_hits9a.ipynb\""
   ]
  },
  {
   "cell_type": "code",
   "execution_count": 2,
   "id": "8f1cdc8f-fbb8-4aa5-95b2-07c603f3614a",
   "metadata": {},
   "outputs": [
    {
     "name": "stdout",
     "output_type": "stream",
     "text": [
      "\n",
      "[NbConvertApp] Converting notebook jupyter/hdgeant4 studies/Klong_hits9a.ipynb to pdf\n",
      "[NbConvertApp] Support files will be in Klong_hits9a_files/\n",
      "[NbConvertApp] Making directory ./Klong_hits9a_files\n",
      "[NbConvertApp] Writing 33762 bytes to notebook.tex\n",
      "[NbConvertApp] Building PDF\n",
      "[NbConvertApp] Running xelatex 3 times: ['xelatex', 'notebook.tex', '-quiet']\n",
      "[NbConvertApp] Running bibtex 1 time: ['bibtex', 'notebook']\n",
      "[NbConvertApp] WARNING | bibtex had problems, most likely because there were no citations\n",
      "[NbConvertApp] PDF successfully created\n",
      "[NbConvertApp] Writing 1612523 bytes to jupyter/hdgeant4 studies/Klong_hits9a.pdf\n",
      "\n"
     ]
    }
   ],
   "source": [
    "import os\n",
    "import subprocess as sb\n",
    "if os.path.isfile(notebook_to_print):\n",
    "    pp = sb.Popen([\"jupyter\", \"nbconvert\", \"--to\", \"pdf\", \"--template=pdf_hide_code\", notebook_to_print],\n",
    "                  stdout=sb.PIPE, stderr=sb.PIPE)\n",
    "    cout,cerr = pp.communicate()\n",
    "    print(cout.decode())\n",
    "    print(cerr.decode())\n",
    "else:\n",
    "    print(\"notebook named\", notebook_to_print, \"not found\")"
   ]
  },
  {
   "cell_type": "code",
   "execution_count": null,
   "id": "065e0406-8271-4c48-8d4c-ee7637bd25bf",
   "metadata": {},
   "outputs": [],
   "source": []
  }
 ],
 "metadata": {
  "kernelspec": {
   "display_name": "Python 3.9 (alma9 container)",
   "language": "python",
   "name": "singularity-python-3.9"
  },
  "language_info": {
   "codemirror_mode": {
    "name": "ipython",
    "version": 3
   },
   "file_extension": ".py",
   "mimetype": "text/x-python",
   "name": "python",
   "nbconvert_exporter": "python",
   "pygments_lexer": "ipython3",
   "version": "3.9.18"
  }
 },
 "nbformat": 4,
 "nbformat_minor": 5
}
