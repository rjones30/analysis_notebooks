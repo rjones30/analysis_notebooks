{
 "cells": [
  {
   "cell_type": "code",
   "execution_count": null,
   "id": "0c232a01-460f-404d-a8b7-809cf88477e6",
   "metadata": {},
   "outputs": [],
   "source": [
    "rundays_2025 = 181\n",
    "worker_count = "
   ]
  }
 ],
 "metadata": {
  "kernelspec": {
   "display_name": "Python 3 (ipykernel)",
   "language": "python",
   "name": "python3"
  },
  "language_info": {
   "codemirror_mode": {
    "name": "ipython",
    "version": 3
   },
   "file_extension": ".py",
   "mimetype": "text/x-python",
   "name": "python",
   "nbconvert_exporter": "python",
   "pygments_lexer": "ipython3",
   "version": "3.8.17"
  }
 },
 "nbformat": 4,
 "nbformat_minor": 5
}
