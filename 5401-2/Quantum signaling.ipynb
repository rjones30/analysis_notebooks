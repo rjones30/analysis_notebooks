{
 "cells": [
  {
   "cell_type": "markdown",
   "id": "6d84606b-d98b-4945-80c4-650f8e5ef803",
   "metadata": {},
   "source": [
    "# Quantum signaling by measurement\n",
    "\n",
    "It is well known that local measurements on an extended quantum system that has been prepared in an entangled state can give rise to correlations between observations at space-like separation. However, these correlations cannot be used to send signals over space-like distances, or so it is claimed. This claim is tested here by investigating the following scenario.\n",
    "1. an extended quantum system is created through the direct product of two state spaces of finite dimensionality;\n",
    "1. the states in system 1 are described in an orthonormal basis of the eigenvectors of an observable P with a discrete spectrum {p[0], p[1], ...}, each of which has an arbitrary degeneracy factor {m[0], m[1], ...} such that sum(m) is the dimensionality of the Hilbert space of system 1;\n",
    "1. the states in system 2 are described in an orthonormal basis of the eigenvectors of another observable Q with a discrete spectrum {q[0], q[1], ...}, each of which has an arbitrary degeneracy factor {n[0], n[1], ...} such that sum(n) is the dimensionality of the Hilbert space of system 2;\n",
    "1. the joint Hilbert space which describes the state of the overall system has dimensionality sum(m) * sum(n).\n",
    "1. the system is prepared in an arbitrary pure state representing an entangled state of the two systems;\n",
    "1. a measurement P is performed on the system, followed immediately by a measurement Q\n",
    "1. the question is asked whether the probability Prob(Q,q) that measurement Q yields value q can depend on the kind of measurement P that was carried out first, or even whether or not P was carried out at all.\n",
    "\n",
    "The possibility that no measurement P was carried out is evaluated by taking the P observable to be independent of the state of the system, eg. the identity operator for which all states in the Hilbert space are eigenvectors with eigenvalue 1."
   ]
  },
  {
   "cell_type": "code",
   "execution_count": 5,
   "id": "8cf7f9b2-6baf-43ec-aaee-6ca650d34991",
   "metadata": {},
   "outputs": [
    {
     "name": "stdout",
     "output_type": "stream",
     "text": [
      "probability of q=0 is [0.2152091 0.2152091]\n",
      "probability of q=1 is [0.3004067 0.3004067]\n",
      "probability of q=2 is [0.39071133 0.39071133]\n",
      "probability of q=3 is [0.09367287 0.09367287]\n",
      "total probability is [1. 1.]\n"
     ]
    }
   ],
   "source": [
    "import numpy as np\n",
    "\n",
    "# define the Hilbert space by the spectrum of operators P and Q\n",
    "Np = 14\n",
    "P = {0: range(0,5),\n",
    "     1: range(5,8),\n",
    "     2: range(8,Np),\n",
    "    }\n",
    "Nq = 10\n",
    "Q = {0: range(0,2),\n",
    "     1: range(2,5),\n",
    "     2: range(5,9),\n",
    "     3: range(9,Nq),\n",
    "    }\n",
    "\n",
    "# define the initial entangled state using random numbers\n",
    "Creal = np.random.rand(Np,Nq)\n",
    "Cimag = np.random.rand(Np,Nq)\n",
    "Cnorm = np.sum(Creal**2 + Cimag**2)\n",
    "\n",
    "# compute probability of each q with and without a prior measurement P, regardless of p\n",
    "d = {}\n",
    "for p in P:\n",
    "    d[p] = 0\n",
    "    for u in P[p]:\n",
    "        for q in Q:\n",
    "            for v in Q[q]:\n",
    "                d[p] += Creal[u,v]**2 + Cimag[u,v]**2\n",
    "    \n",
    "Sall = 0\n",
    "for q in Q:\n",
    "    S = [0,0]\n",
    "    for v in Q[q]:\n",
    "        for p in P:\n",
    "            for u in P[p]:\n",
    "                s = Creal[u,v]**2 + Cimag[u,v]**2\n",
    "                S[0] += s\n",
    "                S[1] += s * d[p] / d[p] # ok, they are the same...\n",
    "    S = S / Cnorm\n",
    "    print(f\"probability of q={q} is\", S)\n",
    "    Sall += S\n",
    "print(f\"total probability is\", Sall)\n"
   ]
  },
  {
   "cell_type": "code",
   "execution_count": null,
   "id": "b9a7965d-e7ee-43b9-801c-6d817a2539fe",
   "metadata": {},
   "outputs": [],
   "source": []
  }
 ],
 "metadata": {
  "kernelspec": {
   "display_name": "Python 3 (ipykernel)",
   "language": "python",
   "name": "python3"
  },
  "language_info": {
   "codemirror_mode": {
    "name": "ipython",
    "version": 3
   },
   "file_extension": ".py",
   "mimetype": "text/x-python",
   "name": "python",
   "nbconvert_exporter": "python",
   "pygments_lexer": "ipython3",
   "version": "3.8.13"
  }
 },
 "nbformat": 4,
 "nbformat_minor": 5
}
