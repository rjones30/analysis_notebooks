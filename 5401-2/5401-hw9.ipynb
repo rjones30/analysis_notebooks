{
 "cells": [
  {
   "cell_type": "markdown",
   "id": "98d8cd39-a444-4d1d-bcc3-93dd44662b64",
   "metadata": {},
   "source": [
    "Problem 2(b)"
   ]
  },
  {
   "cell_type": "code",
   "execution_count": 10,
   "id": "be5b86b7-4d75-4e9b-995f-1fad3926e93c",
   "metadata": {},
   "outputs": [],
   "source": [
    "import math\n",
    "def urhs(u):\n",
    "    return math.pi * (200 * math.exp(-u))**2"
   ]
  },
  {
   "cell_type": "code",
   "execution_count": 29,
   "id": "6760971c-7270-42e3-8afe-f0eb115f7cfa",
   "metadata": {},
   "outputs": [
    {
     "name": "stdout",
     "output_type": "stream",
     "text": [
      "5.0599991516593255\n"
     ]
    }
   ],
   "source": [
    "u=1\n",
    "f=0.1\n",
    "for i in range(2000000):\n",
    "    uold = u\n",
    "    u = u*(1-f) + f*urhs(u)\n",
    "    if abs(u-uold) < 1e-10:\n",
    "        break\n",
    "print(u)"
   ]
  },
  {
   "cell_type": "code",
   "execution_count": 4,
   "id": "2ef8a47a-7b0f-4757-b75a-957cfc5d03d0",
   "metadata": {},
   "outputs": [
    {
     "data": {
      "text/plain": [
       "0.09881424581598336"
      ]
     },
     "execution_count": 4,
     "metadata": {},
     "output_type": "execute_result"
    }
   ],
   "source": [
    "1/(2*u)"
   ]
  },
  {
   "cell_type": "code",
   "execution_count": 7,
   "id": "1154fd7b-74c3-4cf2-8505-116c8e1ae395",
   "metadata": {},
   "outputs": [
    {
     "data": {
      "text/plain": [
       "0.9494000084834808"
      ]
     },
     "execution_count": 7,
     "metadata": {},
     "output_type": "execute_result"
    }
   ],
   "source": [
    "-0.01*u+math.erf(u**8.5)"
   ]
  },
  {
   "cell_type": "markdown",
   "id": "c3bc0ab3-39ee-4343-a782-187dc45358a3",
   "metadata": {},
   "source": [
    "Problem 2(c)"
   ]
  },
  {
   "cell_type": "code",
   "execution_count": 17,
   "id": "0a29a087-1bb0-4d8c-b5b7-09cde78349bf",
   "metadata": {},
   "outputs": [],
   "source": [
    "def yrhs(y):\n",
    "    return (1 - y) * math.tan((50*(1-y))**0.5)**2"
   ]
  },
  {
   "cell_type": "code",
   "execution_count": 30,
   "id": "6dfeafe3-7bc6-4a17-80d8-5a97e99e7ad5",
   "metadata": {},
   "outputs": [
    {
     "name": "stdout",
     "output_type": "stream",
     "text": [
      "0.9621829301263634\n"
     ]
    }
   ],
   "source": [
    "y=0.95\n",
    "f=0.0001\n",
    "for i in range(200000):\n",
    "    yold = y\n",
    "    y = y*(1-f) + f*yrhs(y)\n",
    "    if abs(y-yold) < 1e-10:\n",
    "        break\n",
    "print(y)"
   ]
  },
  {
   "cell_type": "markdown",
   "id": "35d68c3c-64e3-43d4-a83e-8e622cde0033",
   "metadata": {},
   "source": [
    "Limit as V0 a^2 => infinity"
   ]
  },
  {
   "cell_type": "code",
   "execution_count": null,
   "id": "58407a6b-2576-493b-ba7c-e386ab31a075",
   "metadata": {},
   "outputs": [],
   "source": []
  },
  {
   "cell_type": "code",
   "execution_count": null,
   "id": "95061740-92c2-4e1c-8f75-521e3d59a6a4",
   "metadata": {},
   "outputs": [],
   "source": []
  },
  {
   "cell_type": "code",
   "execution_count": null,
   "id": "0a031c25-7cca-4e6e-9e43-86967c74ae91",
   "metadata": {},
   "outputs": [],
   "source": []
  },
  {
   "cell_type": "code",
   "execution_count": null,
   "id": "1d6b1c1a-5afa-424a-822b-18e4a21dcb8a",
   "metadata": {},
   "outputs": [],
   "source": []
  }
 ],
 "metadata": {
  "kernelspec": {
   "display_name": "Python 3 (ipykernel)",
   "language": "python",
   "name": "python3"
  },
  "language_info": {
   "codemirror_mode": {
    "name": "ipython",
    "version": 3
   },
   "file_extension": ".py",
   "mimetype": "text/x-python",
   "name": "python",
   "nbconvert_exporter": "python",
   "pygments_lexer": "ipython3",
   "version": "3.8.12"
  }
 },
 "nbformat": 4,
 "nbformat_minor": 5
}
