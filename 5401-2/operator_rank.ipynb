{
 "cells": [
  {
   "cell_type": "markdown",
   "id": "e525aef1-1c2c-465a-95e4-026319a92aa4",
   "metadata": {},
   "source": [
    "# Operator rank classification under rotations\n",
    "A question arose in class of what minimal set of irreducible representations are needed to express products of components of the same coordinate vector. As an example, take the rank 3 Cartesian operator xyz. Taking (1)x(1)x(1) = (3)+2(2)+3(1)+(0) we see it could draw from as many as 7 different irreducible representations, but does it? Exchange symmetry arguments might be used to eliminate the (2) and (0). Does that mean that all of the remaining 4 in (3)+3(1) are involved? Or are there fewer? I see from my answer key that I wrote down last time I taught the course that at that time I thought only (3) was needed to build xyz. This notebook provides a general tool for answering this question, and others of its nature. The algorithm is designed to work with any product of the components of a single Cartesian vector (x,y,z)."
   ]
  },
  {
   "cell_type": "markdown",
   "id": "d86a1711-dd1f-48db-b02a-d82c82fbc837",
   "metadata": {},
   "source": [
    "## definition of representations\n",
    "The first task is to describe two distinct kinds of tensors: members of an irreducible representation within a class of tensors, and direct products of members of smaller irreducible representations that belong to the same class. The coefficients that appear in the expansion of a member of the first kind in terms of a sum over members of the second within the same class are known as generalized Clebsh-Gordan coefficients. The ordinary Clebsh-Gordan coefficients appear in the simplest case where the direct product is between just two smaller irreducible representations. The more complicated case of a direct product between more than two irreducible representations is covered by the generalized Clebsh-Gordan coefficients.\n",
    "\n",
    "A direct product of irreducible representation members is designated by a sequence of ordered pairs (j,m). By contrast, a member of an irreducible representation in the product space entails the assignment of N-1 j values together with a single m that identifies an individual member of the grand irreducible representation.\n",
    "* direct product basis: ((j1,m1), (j2,m2), ... (jN,mN)) - actually only the (m1, m2, ... mN) are needed to identify the member of the class\n",
    "* irreducible representation basis: (j1, j2, ... jN; j, m; k2, ... k{N-1}) - actually only the (j, m, k2, ... k{N-1}) are needed to identify the member of the class.\n",
    "\n",
    "These kn for n=2...N-1 are quantum numbers are intermediate j values that identify which of the (j) irreducible representations in the direct product space of j1...jn. This sequence of k-values is needed to distinguish different total-j irreducible representations with the same j in the larger direct product space."
   ]
  },
  {
   "cell_type": "code",
   "execution_count": null,
   "id": "fad535d3-c9d3-4826-b110-a9f2b13aeaf9",
   "metadata": {},
   "outputs": [],
   "source": []
  }
 ],
 "metadata": {
  "kernelspec": {
   "display_name": "Python 3 (ipykernel)",
   "language": "python",
   "name": "python3"
  },
  "language_info": {
   "codemirror_mode": {
    "name": "ipython",
    "version": 3
   },
   "file_extension": ".py",
   "mimetype": "text/x-python",
   "name": "python",
   "nbconvert_exporter": "python",
   "pygments_lexer": "ipython3",
   "version": "3.8.17"
  }
 },
 "nbformat": 4,
 "nbformat_minor": 5
}
