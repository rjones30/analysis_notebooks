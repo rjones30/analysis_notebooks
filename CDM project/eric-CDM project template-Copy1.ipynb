{
 "cells": [
  {
   "cell_type": "markdown",
   "id": "76f4f9f1",
   "metadata": {},
   "source": [
    "# Code Division Multiplexing: HTC Tutorial using Jupyter notebooks\n",
    "\n",
    "## Student project in High Throughput Computing\n",
    "\n",
    "<br>Netid\n",
    "<br>Started:\n",
    "<p>I certify that this notebook was filled in by me, and represents my own original work.\n",
    "<br>Signed:\n"
   ]
  },
  {
   "cell_type": "markdown",
   "id": "2f82206b",
   "metadata": {},
   "source": [
    "## Introduction\n",
    "This project explores the power of code-division multiplexing to encode a message within the correlations between the samples of an otherwise purely random and uncorrelated time series. The final goal is to discover the hidden messages that are found somewhere within a signal provided to you by a third party. The CDM scheme that was used to encode these messages is provided to you in the form of an object froom a python class called CDMcode. This object contains a set of 17 codes, any two of which may have been used to encode the secret messages. Each code is its own sequence of +1 and -1 values which appear to be random and uncorrelated within the code, but which is repeated on top of noise within the signal, and can be discovered by computing the covariance of the signal with each code.\n",
    "\n",
    "To get started, let's generate a random signal, and represent it by a python array of integers containing values in the interval \\[-128, +128). To efficiently work with arrays in this project, we will use the numpy library that has lots of features for efficiently working with arrays. In numpy, integers in the range \\[-128, +128) are called bytes.\n"
   ]
  },
  {
   "cell_type": "code",
   "execution_count": null,
   "id": "40e18581",
   "metadata": {},
   "outputs": [],
   "source": [
    "import numpy as np\n",
    "arr = np.array(np.random.normal(10, 3, 100000), dtype=np.byte)"
   ]
  },
  {
   "cell_type": "markdown",
   "id": "fb2b4643",
   "metadata": {},
   "source": [
    "The first line imports the numpy math library into our project. The second line uses numpy, denoted by the short-hand \"np\", to generate an array of 1000 bytes named arr. Each element of arr is filled with a value drawn from a normal distribution of integers with mean value 10 and standard deviation 3. The next cell plots the array, first as a time series, then as a frequency plot of signal values. Play with the parameters in the above cell and rerun the plot cell to see how the results change. What happens if you try to increase the signal above the upper limit of 128 for byte values?"
   ]
  },
  {
   "cell_type": "code",
   "execution_count": null,
   "id": "8233c0f5",
   "metadata": {},
   "outputs": [],
   "source": [
    "import matplotlib.pyplot as plt\n",
    "\n",
    "fig, axes = plt.subplots(nrows=1, ncols=2, figsize=(15, 5))\n",
    "p1 = axes[0].plot(arr[:100])\n",
    "axes[0].set_xlabel('series index')\n",
    "axes[0].set_ylabel('signal')\n",
    "p2 = axes[1].hist(arr, 30, (0, max(30, max(arr) * 1.1)))\n",
    "axes[1].set_xlabel('signal amplitude')\n",
    "axes[1].set_ylabel('frequency')"
   ]
  },
  {
   "cell_type": "markdown",
   "id": "ceac2467",
   "metadata": {},
   "source": [
    "Let's introduce a bunch of basic functionality for handling CDM signals by importing a custom python object class called CDMcode. Each time you construct a new object of this class, you get a complete set of codes for multiplexing messages from different channels into a combined signal at the transmitter, and for demultiplexing messages to different channels from the combined signal at the receiver. The process of multiplexing is called \"encoding\", and demultiplexing is called \"decoding\"."
   ]
  },
  {
   "cell_type": "code",
   "execution_count": 2,
   "id": "4d2b664f",
   "metadata": {},
   "outputs": [],
   "source": [
    "import numpy as np\n",
    "\n",
    "class CDMcode:\n",
    "    def __init__(self, log2length):\n",
    "        \"\"\"\n",
    "        Constructs a new CDMcode object of length 2**log2length.\n",
    "        Initialize the first code to a random bit string, and the\n",
    "        subsequent log2length codes to the complete set of codes\n",
    "        that are orthogonal to the first.\n",
    "        \"\"\"\n",
    "        self.codelen = 1 << log2length\n",
    "        arr = np.random.randint(2, size=self.codelen)\n",
    "        code0 = np.array(arr, dtype=int)\n",
    "        count = np.arange(self.codelen, dtype=int)\n",
    "        self.code = [code0]\n",
    "        self.coda = [2 * code0 - 1]\n",
    "        self.codi = [-2 * code0 + 1]\n",
    "        self.coda8 = [np.array(self.coda[0], dtype=np.byte)]\n",
    "        self.codi8 = [np.array(self.codi[0], dtype=np.byte)]\n",
    "        for n in range(log2length):\n",
    "            coden = np.bitwise_xor(code0, (count >> n) & 1)\n",
    "            self.code.append(coden)\n",
    "            self.coda.append(2 * coden - 1)\n",
    "            self.codi.append(-2 * coden + 1)\n",
    "            self.coda8.append(np.array(self.coda[-1], dtype=np.byte))\n",
    "            self.codi8.append(np.array(self.codi[-1], dtype=np.byte))\n",
    "        self.codasum = [np.sum(coda) for coda in self.coda]\n",
    "    \n",
    "    def encode(self, message, chan):\n",
    "        \"\"\"\n",
    "        Takes in a message bytestring and expands it into a signal\n",
    "        array encoded using the code for channel chan, returning it\n",
    "        as a numpy array of byte containing the bit values of the\n",
    "        encoded message, length = len(message) * codelen * 8. The\n",
    "        bit order in the encoded signal is big-endian.\n",
    "        \"\"\"\n",
    "        bitstream = []\n",
    "        for mbyte in message:\n",
    "            for mbit in reversed(range(8)):\n",
    "                if (mbyte >> mbit) % 2 == 0:\n",
    "                    bitstream.append(self.codi8[chan])\n",
    "                else:\n",
    "                    bitstream.append(self.coda8[chan])\n",
    "        return np.concatenate(bitstream)\n",
    "\n",
    "    def decode(self, signal, chan, amp=1):\n",
    "        \"\"\"\n",
    "        Takes in a signal array of bytes and decode any messages found\n",
    "        in code channel chan. Null bits in the signal are treated as\n",
    "        message termination. Valid message bits are expected to occur\n",
    "        in sequences of 8 bits, otherwise a warning message is printed.\n",
    "        The amplitude of the encoded signal is assumed to be amp.\n",
    "        \"\"\"\n",
    "        dotmean = np.sum(signal) * self.codasum[chan] / len(signal)\n",
    "        pthresh = dotmean + self.codelen * amp / 2\n",
    "        nthresh = dotmean - self.codelen * amp / 2\n",
    "        message = bytearray()\n",
    "        pos = 0\n",
    "        while pos + 8 * self.codelen <= len(signal):\n",
    "            mbyte = 0\n",
    "            for mbit in reversed(range(8)):\n",
    "                sdotc = self.dot(signal[pos:], chan)\n",
    "                if sdotc > pthresh:\n",
    "                    mbyte += (1 << mbit)\n",
    "                elif sdotc > nthresh:\n",
    "                    if mbit != 7:\n",
    "                        print(\"CDMcode.decode warning:\",\n",
    "                              \"incomplete character found at position\",\n",
    "                              pos / self.codelen)\n",
    "                    return bytes(message)\n",
    "                pos += self.codelen\n",
    "            message.append(mbyte)\n",
    "        return bytes(message)\n",
    "    \n",
    "    def dot(self, signal, chan):\n",
    "        \"\"\"\n",
    "        Take the inner product between the array signal[:codelen]\n",
    "        and the code for channel chan. The signal array is assumed to\n",
    "        be at least of length codelen.\n",
    "        \"\"\"\n",
    "        return np.dot(self.coda[chan], signal[:self.codelen])"
   ]
  },
  {
   "cell_type": "markdown",
   "id": "564f8c35",
   "metadata": {},
   "source": [
    "###### Warm-up\n",
    "For simplicity, the CDMcode class assumes that the cdm codes are a power of 2 in length. This same power of 2 is what limits the total number of separate channels that can be multiplexed on a signal using this CDMcode object. This power is passed as an argument to the constructor. For example, CDMcode(5) would produce a CDMcode object that implements a cdm scheme with 6 (5 + 1) separate channels and a code length of 32. In this simple example, we set up such a scheme with 6 channels, and transmit a simple message over channel 2."
   ]
  },
  {
   "cell_type": "code",
   "execution_count": null,
   "id": "40b0a4f4",
   "metadata": {},
   "outputs": [],
   "source": [
    "cdm = CDMcode(5)\n",
    "signal = cdm.encode(b\"Hello, world!\", 2)\n",
    "print(\"signal is a time series with\", len(signal), \"bytes.\")"
   ]
  },
  {
   "cell_type": "markdown",
   "id": "8b83a0c5",
   "metadata": {},
   "source": [
    "Now lets cycle through all 6 channels and see if we can find the one that has the message encoded on it. Play around with the above encoding. Add an offset to the signal, and try adding some random background noise. Is the algorithm still able to detect the correct message on the right channel? At what point does the noise start to interfere with the fidelity of the message?"
   ]
  },
  {
   "cell_type": "code",
   "execution_count": null,
   "id": "06a85c7f",
   "metadata": {},
   "outputs": [],
   "source": [
    "for chan in range(6):\n",
    "    msg = cdm.decode(signal, chan)\n",
    "    if len(msg) > 0:\n",
    "        print(\"found a message on channel\", chan, msg)"
   ]
  },
  {
   "cell_type": "markdown",
   "id": "af6a1b6f",
   "metadata": {},
   "source": [
    "## The challenge problem\n",
    "Now it is time to tackle the main challenge of this project. You have been given a signal stored in a plain text file found in your notebook directory. The file has a name like cdm_signal_N.csv where N is some small integer that the instructor uses to identify which signal you have been assigned to study. The CDMcode object that was used to encode secret messages into this signal is also stored in the same project directory under the name cdm_codes_N.dat. Use code like the following to load this CDMcode object into your project workspace. You will need to replace the symbol N in the filename with the specific number you were given."
   ]
  },
  {
   "cell_type": "code",
   "execution_count": null,
   "id": "baf5b636",
   "metadata": {},
   "outputs": [],
   "source": [
    "import pickle\n",
    "cdm = pickle.load(open(\"cdm_codes_N.dat\", \"rb\"))\n",
    "print(\"loaded CDMcode object with code length\", cdm.codelen)"
   ]
  },
  {
   "cell_type": "markdown",
   "id": "6092d177",
   "metadata": {},
   "source": [
    "The rest of this project is for you to work out. The general steps you need to complete are as follows.\n",
    "<ol>\n",
    "    <li>Open the input text file and read in the signal values, loading them into a numpy byte array in your notebook.</li>\n",
    "    <li>Search through the signal for the start of a message. Messages can start at any arbitrary place in the signal, so you need to measure the correlation of the code for each channel with the signal starting at all possible offsets, and look for a non-random correlation that indicates where the message starts.</li>\n",
    "    <li>Once you have found the beginning of a message on any channel, extract the message until the correlation vanishes. There is at most one message on any given channel, so once you have seen a message terminate, there is no need to continue to search the signal on that channel.</li>\n",
    "    <li>Divide your notebook up into sections, with text blocks ahead of each code block explaining what the code block is intended to do.</li>\n",
    "    <li>Your last cell in the notebook should be the one where you tell what messages you have found, what channels they were transmitted on, and what their offsets into the signal were.\n",
    "        </ol>"
   ]
  },
  {
   "cell_type": "markdown",
   "id": "711ec971",
   "metadata": {},
   "source": [
    "First I need to load the CDMcode object."
   ]
  },
  {
   "cell_type": "code",
   "execution_count": 3,
   "id": "1248d797",
   "metadata": {},
   "outputs": [
    {
     "name": "stdout",
     "output_type": "stream",
     "text": [
      "loaded CDMcode object with code length 65536\n"
     ]
    }
   ],
   "source": [
    "import pickle\n",
    "cdm = pickle.load(open(\"cdm_codes_15.dat\", \"rb\"))\n",
    "print(\"loaded CDMcode object with code length\", cdm.codelen)"
   ]
  },
  {
   "cell_type": "markdown",
   "id": "8482ea4d",
   "metadata": {},
   "source": [
    "Secondly I need to read in the signal values and load them into a single numpy byte array."
   ]
  },
  {
   "cell_type": "code",
   "execution_count": 4,
   "id": "27f19731",
   "metadata": {},
   "outputs": [
    {
     "ename": "UnpicklingError",
     "evalue": "invalid load key, '6'.",
     "output_type": "error",
     "traceback": [
      "\u001b[0;31m---------------------------------------------------------------------------\u001b[0m",
      "\u001b[0;31mUnpicklingError\u001b[0m                           Traceback (most recent call last)",
      "\u001b[0;32m<ipython-input-4-8759faf4eba6>\u001b[0m in \u001b[0;36m<module>\u001b[0;34m\u001b[0m\n\u001b[0;32m----> 1\u001b[0;31m \u001b[0msignal\u001b[0m \u001b[0;34m=\u001b[0m \u001b[0mpickle\u001b[0m\u001b[0;34m.\u001b[0m\u001b[0mload\u001b[0m\u001b[0;34m(\u001b[0m\u001b[0mopen\u001b[0m\u001b[0;34m(\u001b[0m\u001b[0;34m\"cdm_signal_15.csv\"\u001b[0m\u001b[0;34m,\u001b[0m \u001b[0;34m\"rb\"\u001b[0m\u001b[0;34m)\u001b[0m\u001b[0;34m)\u001b[0m\u001b[0;34m\u001b[0m\u001b[0;34m\u001b[0m\u001b[0m\n\u001b[0m\u001b[1;32m      2\u001b[0m \u001b[0mprint\u001b[0m\u001b[0;34m(\u001b[0m\u001b[0;34m\"loaded CDMsignal object with signal length\"\u001b[0m\u001b[0;34m,\u001b[0m \u001b[0msignal\u001b[0m\u001b[0;34m.\u001b[0m\u001b[0mcodelen\u001b[0m\u001b[0;34m)\u001b[0m\u001b[0;34m\u001b[0m\u001b[0;34m\u001b[0m\u001b[0m\n",
      "\u001b[0;31mUnpicklingError\u001b[0m: invalid load key, '6'."
     ]
    }
   ],
   "source": [
    "signal = pickle.load(open(\"cdm_signal_15.csv\", \"rb\"))\n",
    "print(\"loaded CDMsignal object with signal length\", signal.codelen)"
   ]
  },
  {
   "cell_type": "code",
   "execution_count": 4,
   "id": "e7833717",
   "metadata": {},
   "outputs": [
    {
     "name": "stdout",
     "output_type": "stream",
     "text": [
      "67\n",
      "72\n",
      "51\n",
      "91\n",
      "58\n",
      "71\n",
      "85\n",
      "75\n",
      "66\n",
      "78\n"
     ]
    }
   ],
   "source": [
    "count=0\n",
    "for line in open(\"cdm_signal_15.csv\"):\n",
    "   print(line,end='')\n",
    "   count+= 1\n",
    "   if count == 10:\n",
    "      break"
   ]
  },
  {
   "cell_type": "code",
   "execution_count": 5,
   "id": "bec2bdf2",
   "metadata": {},
   "outputs": [
    {
     "ename": "UnpicklingError",
     "evalue": "invalid load key, '6'.",
     "output_type": "error",
     "traceback": [
      "\u001b[0;31m---------------------------------------------------------------------------\u001b[0m",
      "\u001b[0;31mUnpicklingError\u001b[0m                           Traceback (most recent call last)",
      "\u001b[0;32m<ipython-input-5-eaa309402c8b>\u001b[0m in \u001b[0;36m<module>\u001b[0;34m\u001b[0m\n\u001b[1;32m      1\u001b[0m \u001b[0msignal\u001b[0m \u001b[0;34m=\u001b[0m \u001b[0mbytearray\u001b[0m\u001b[0;34m(\u001b[0m\u001b[0;34m)\u001b[0m\u001b[0;34m\u001b[0m\u001b[0;34m\u001b[0m\u001b[0m\n\u001b[0;32m----> 2\u001b[0;31m \u001b[0mmessage\u001b[0m \u001b[0;34m=\u001b[0m \u001b[0mpickle\u001b[0m\u001b[0;34m.\u001b[0m\u001b[0mload\u001b[0m\u001b[0;34m(\u001b[0m\u001b[0mopen\u001b[0m\u001b[0;34m(\u001b[0m\u001b[0;34m\"cdm_signal_15.csv\"\u001b[0m\u001b[0;34m,\u001b[0m \u001b[0;34m\"rb\"\u001b[0m\u001b[0;34m)\u001b[0m\u001b[0;34m)\u001b[0m\u001b[0;34m\u001b[0m\u001b[0;34m\u001b[0m\u001b[0m\n\u001b[0m\u001b[1;32m      3\u001b[0m \u001b[0;32mfor\u001b[0m \u001b[0mi\u001b[0m \u001b[0;32min\u001b[0m \u001b[0mrange\u001b[0m\u001b[0;34m(\u001b[0m\u001b[0mcdm\u001b[0m\u001b[0;34m.\u001b[0m\u001b[0mcodelen\u001b[0m\u001b[0;34m)\u001b[0m\u001b[0;34m:\u001b[0m\u001b[0;34m\u001b[0m\u001b[0;34m\u001b[0m\u001b[0m\n\u001b[1;32m      4\u001b[0m     \u001b[0msignal\u001b[0m\u001b[0;34m.\u001b[0m\u001b[0mappend\u001b[0m\u001b[0;34m(\u001b[0m\u001b[0mmessage\u001b[0m\u001b[0;34m[\u001b[0m\u001b[0mi\u001b[0m\u001b[0;34m]\u001b[0m\u001b[0;34m)\u001b[0m\u001b[0;34m\u001b[0m\u001b[0;34m\u001b[0m\u001b[0m\n\u001b[1;32m      5\u001b[0m \u001b[0mprint\u001b[0m\u001b[0;34m(\u001b[0m\u001b[0msignal\u001b[0m\u001b[0;34m)\u001b[0m\u001b[0;34m\u001b[0m\u001b[0;34m\u001b[0m\u001b[0m\n",
      "\u001b[0;31mUnpicklingError\u001b[0m: invalid load key, '6'."
     ]
    }
   ],
   "source": [
    "signal = bytearray()\n",
    "message = pickle.load(open(\"cdm_signal_15.csv\", \"rb\"))\n",
    "for i in range(cdm.codelen):\n",
    "    signal.append(message[i])\n",
    "print(signal)"
   ]
  },
  {
   "cell_type": "code",
   "execution_count": null,
   "id": "1150ec34",
   "metadata": {},
   "outputs": [],
   "source": [
    "from numpy import genfromtxt\n",
    "my_data = genfromtxt('cdm_signal_15.csv', delimiter=',')"
   ]
  },
  {
   "cell_type": "markdown",
   "id": "773a430c",
   "metadata": {},
   "source": [
    "This code reads through each channel in the signal looking for each message contained within each channel. "
   ]
  },
  {
   "cell_type": "code",
   "execution_count": null,
   "id": "d5c60f00",
   "metadata": {},
   "outputs": [],
   "source": [
    "for chan in range(16):\n",
    "    msg = cdm.decode(signal, chan)\n",
    "    if len(msg) > 0:\n",
    "        print(\"found a message on channel\", chan, msg)"
   ]
  },
  {
   "cell_type": "code",
   "execution_count": null,
   "id": "b08ce755",
   "metadata": {},
   "outputs": [],
   "source": []
  }
 ],
 "metadata": {
  "kernelspec": {
   "display_name": "Python 3",
   "language": "python",
   "name": "python3"
  },
  "language_info": {
   "codemirror_mode": {
    "name": "ipython",
    "version": 3
   },
   "file_extension": ".py",
   "mimetype": "text/x-python",
   "name": "python",
   "nbconvert_exporter": "python",
   "pygments_lexer": "ipython3",
   "version": "3.6.8"
  }
 },
 "nbformat": 4,
 "nbformat_minor": 5
}
