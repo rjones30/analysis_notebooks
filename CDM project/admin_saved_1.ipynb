{
 "cells": [
  {
   "cell_type": "markdown",
   "id": "31c02bea",
   "metadata": {},
   "source": [
    "# Code Division Multiplexing: HTC Tutorial using Jupyter notebooks\n",
    "\n",
    "## Student project in High Throughput Computing\n",
    "\n",
    "Author: Richard T. Jones, University of Connecticut, richard.t.jones(at)uconn.edu\n",
    "<br>Created: March 19, 2022\n"
   ]
  },
  {
   "cell_type": "markdown",
   "id": "e3054b76",
   "metadata": {},
   "source": [
    "Define a class for CDM encoding and decoding."
   ]
  },
  {
   "cell_type": "code",
   "execution_count": 1,
   "id": "7a8818df",
   "metadata": {},
   "outputs": [
    {
     "ename": "ModuleNotFoundError",
     "evalue": "No module named 'numpy'",
     "output_type": "error",
     "traceback": [
      "\u001b[0;31m---------------------------------------------------------------------------\u001b[0m",
      "\u001b[0;31mModuleNotFoundError\u001b[0m                       Traceback (most recent call last)",
      "Cell \u001b[0;32mIn [1], line 1\u001b[0m\n\u001b[0;32m----> 1\u001b[0m \u001b[38;5;28;01mimport\u001b[39;00m \u001b[38;5;21;01mnumpy\u001b[39;00m \u001b[38;5;28;01mas\u001b[39;00m \u001b[38;5;21;01mnp\u001b[39;00m\n\u001b[1;32m      3\u001b[0m \u001b[38;5;28;01mclass\u001b[39;00m \u001b[38;5;21;01mCDMcode\u001b[39;00m:\n\u001b[1;32m      4\u001b[0m     \u001b[38;5;28;01mdef\u001b[39;00m \u001b[38;5;21m__init__\u001b[39m(\u001b[38;5;28mself\u001b[39m, log2length):\n",
      "\u001b[0;31mModuleNotFoundError\u001b[0m: No module named 'numpy'"
     ]
    }
   ],
   "source": [
    "import numpy as np\n",
    "\n",
    "class CDMcode:\n",
    "    def __init__(self, log2length):\n",
    "        \"\"\"\n",
    "        Constructs a new CDMcode object of length 2**log2length.\n",
    "        Initialize the first code to a random bit string, and the\n",
    "        subsequent log2length codes to the complete set of codes\n",
    "        that are orthogonal to the first.\n",
    "        \"\"\"\n",
    "        self.codelen = 1 << log2length\n",
    "        arr = np.random.randint(2, size=self.codelen)\n",
    "        code0 = np.array(arr, dtype=int)\n",
    "        count = np.arange(self.codelen, dtype=int)\n",
    "        self.code = [code0]\n",
    "        self.coda = [2 * code0 - 1]\n",
    "        self.codi = [-2 * code0 + 1]\n",
    "        self.coda8 = [np.array(self.coda[0], dtype=np.byte)]\n",
    "        self.codi8 = [np.array(self.codi[0], dtype=np.byte)]\n",
    "        for n in range(log2length):\n",
    "            coden = np.bitwise_xor(code0, (count >> n) & 1)\n",
    "            self.code.append(coden)\n",
    "            self.coda.append(2 * coden - 1)\n",
    "            self.codi.append(-2 * coden + 1)\n",
    "            self.coda8.append(np.array(self.coda[-1], dtype=np.byte))\n",
    "            self.codi8.append(np.array(self.codi[-1], dtype=np.byte))\n",
    "        self.codasum = [np.sum(coda) for coda in self.coda]\n",
    "    \n",
    "    def encode(self, message, chan):\n",
    "        \"\"\"\n",
    "        Takes in a message bytestring and expands it into a signal\n",
    "        array encoded using the code for channel chan, returning it\n",
    "        as a numpy array of byte containing the bit values of the\n",
    "        encoded message, length = len(message) * codelen * 8. The\n",
    "        bit order in the encoded signal is big-endian.\n",
    "        \"\"\"\n",
    "        signal = np.array([], dtype=np.byte)\n",
    "        for mbyte in message:\n",
    "            for mbit in reversed(range(8)):\n",
    "                if (mbyte >> mbit) % 2 == 0:\n",
    "                    signal = np.concatenate((signal, self.codi8[chan]))\n",
    "                else:\n",
    "                    signal = np.concatenate((signal, self.coda8[chan]))\n",
    "        return signal\n",
    "    \n",
    "    def decode(self, signal, chan):\n",
    "        \"\"\"\n",
    "        Takes in a signal array of bytes and decode any messages found\n",
    "        in code channel chan. Null bits in the signal are ignored. Valid\n",
    "        message bits are expected to occur in sequences of 8 bits,\n",
    "        otherwise a warning message is printed and the method returns\n",
    "        without any further processing of signal.\n",
    "        \"\"\"\n",
    "        dotmean = np.sum(signal) * self.codasum[chan] / len(signal)\n",
    "        pthresh = dotmean + self.codelen / 2\n",
    "        nthresh = dotmean - self.codelen / 2\n",
    "        message = bytearray()\n",
    "        mbyte = 0\n",
    "        mbit = 7\n",
    "        pos = 0\n",
    "        while pos + self.codelen <= len(signal):\n",
    "            sdotc = self.dot(signal, chan, pos)\n",
    "            #print(\"sdotc at pos={0} is {1}, pthresh={2}, nthresh={3}\".format(pos, sdotc, pthresh, nthresh))\n",
    "            if sdotc > pthresh:\n",
    "                mbyte += (1 << mbit)\n",
    "            elif sdotc > nthresh:\n",
    "                if mbit != 7:\n",
    "                    print(\"CDMcode.decode warning:\",\n",
    "                          \"incomplete character found at position\",\n",
    "                          pos / self.codelen)\n",
    "                return bytes(message)\n",
    "            pos += self.codelen\n",
    "            mbit -= 1\n",
    "            if mbit < 0:\n",
    "                message.append(mbyte)\n",
    "                mbyte = 0\n",
    "                mbit = 7\n",
    "        return bytes(message)\n",
    "    \n",
    "    def dot(self, signal, chan, pos=0):\n",
    "        \"\"\"\n",
    "        Take the inner product between the array signal[pos,pos+codelen]\n",
    "        and the code for channel chan. The signal array is assumed to\n",
    "        be at least of length pos + codelen.\n",
    "        \"\"\"\n",
    "        return np.dot(self.coda[chan], signal[pos:pos+self.codelen])"
   ]
  },
  {
   "cell_type": "markdown",
   "id": "aa5e50cc",
   "metadata": {},
   "source": [
    "## Othogonality check\n",
    "\n",
    "Check orthogonality of the codes in one or two special cases, N < 10. This \"inner product\" is defined as the sum over +1 for each bit position with the same value in the two vectors, and -1 for each bit position with the opposite value. You should verify that the inner product of any code with itself equals the number of bits, whereas the inner product is zero when taken with any of the other codes in the set."
   ]
  },
  {
   "cell_type": "code",
   "execution_count": null,
   "id": "0d510baa",
   "metadata": {},
   "outputs": [],
   "source": [
    "N = 3\n",
    "c = CDMcode(N)\n",
    "for n in range(N+1):\n",
    "    print(\"c[{0}]\".format(n), \": \", end='')\n",
    "    print(c.code[n])\n",
    "    for m in range(n+1):\n",
    "        print(\"   c[{0}] . c[{1}] = {2}\".format(n, m, c.dot(c.encode(b'\\x80', n), m)))\n"
   ]
  },
  {
   "cell_type": "markdown",
   "id": "fbb66a2f",
   "metadata": {},
   "source": [
    "## Encode a message\n",
    "Create a noisy baseline signal and encode a single message into it. Plot the signal, its amplitude distribution and its autocorrelation."
   ]
  },
  {
   "cell_type": "code",
   "execution_count": null,
   "id": "281793f6",
   "metadata": {},
   "outputs": [],
   "source": [
    "N = 24\n",
    "chan = 3\n",
    "c = CDMcode(N)\n",
    "message = b\"around\"# and around the rugged rocks the ragged rascal ran\"\n",
    "signal = np.array([], dtype=np.byte)\n",
    "charlen = 8 * c.codelen\n",
    "for a in message:\n",
    "    arr = np.array(np.random.normal(64, 12.5, charlen), dtype=np.byte)\n",
    "    signal = np.concatenate((signal, arr))\n",
    "signal += c.encode(np.frombuffer(message, dtype=np.byte), chan)\n",
    "\n",
    "message2 = b\"but\"# not without his umbrella!\"\n",
    "message2 = message2.ljust(len(message), b'\\x00')\n",
    "signal += c.encode(np.frombuffer(message2, dtype=np.byte), chan + 10)"
   ]
  },
  {
   "cell_type": "code",
   "execution_count": null,
   "id": "0bbce934",
   "metadata": {},
   "outputs": [],
   "source": [
    "import matplotlib.pyplot as plt\n",
    "\n",
    "fig, axes = plt.subplots(nrows=1, ncols=2, figsize=(15, 5))\n",
    "p1 = axes[0].plot(signal[:100])\n",
    "p2 = axes[1].hist(signal, 128, (0, 128))"
   ]
  },
  {
   "cell_type": "markdown",
   "id": "76e8cfed",
   "metadata": {},
   "source": [
    "## Decode a signal, look for messages\n",
    "Search the encoded signal for messages on any channel."
   ]
  },
  {
   "cell_type": "code",
   "execution_count": null,
   "id": "d335b7e8",
   "metadata": {},
   "outputs": [],
   "source": [
    "print(\"signal has length\", len(signal), \"bytes\")\n",
    "for chan in range(N + 1):\n",
    "    msg = c.decode(signal, chan)\n",
    "    if len(msg) > 0:\n",
    "        print('message found on channel {0}: \"{1}\"'.format(chan, msg.decode()))"
   ]
  }
 ],
 "metadata": {
  "kernelspec": {
   "display_name": "Python 3 (ipykernel)",
   "language": "python",
   "name": "python3"
  },
  "language_info": {
   "codemirror_mode": {
    "name": "ipython",
    "version": 3
   },
   "file_extension": ".py",
   "mimetype": "text/x-python",
   "name": "python",
   "nbconvert_exporter": "python",
   "pygments_lexer": "ipython3",
   "version": "3.8.12"
  }
 },
 "nbformat": 4,
 "nbformat_minor": 5
}
