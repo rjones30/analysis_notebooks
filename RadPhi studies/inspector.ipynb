{
 "cells": [
  {
   "cell_type": "markdown",
   "id": "5bb29884-d7ec-4c15-a0cf-588b4fb0bbf1",
   "metadata": {},
   "source": [
    "# Experimenting with inspect"
   ]
  },
  {
   "cell_type": "code",
   "execution_count": 6,
   "id": "b10a6816-ce65-4e01-b410-d8f59183c856",
   "metadata": {},
   "outputs": [],
   "source": [
    "import inspect\n",
    "import re"
   ]
  },
  {
   "cell_type": "code",
   "execution_count": 7,
   "id": "cb3c1c79-83c1-4e1c-9391-d1123010221c",
   "metadata": {},
   "outputs": [],
   "source": [
    "def mytestfunc(row, col):\n",
    "    return (row.x, col.y)"
   ]
  },
  {
   "cell_type": "code",
   "execution_count": 13,
   "id": "f24304b8-09b7-46d2-a37c-325d766766bb",
   "metadata": {},
   "outputs": [
    {
     "name": "stdout",
     "output_type": "stream",
     "text": [
      "mytestfunc row\n",
      "found row.x\n"
     ]
    }
   ],
   "source": [
    "source_code = inspect.getsource(mytestfunc)\n",
    "varpat = r\"([A-Za-z_][A-Za-z0-9_]*)\"\n",
    "m = re.match(f\"def[\\s]+{varpat}[\\s]*\\([\\s]*{varpat}[\\s]*,[\\s]*{varpat}[\\s]*[,)]\", source_code)\n",
    "treearg = m.group(2)\n",
    "print(m.group(1), m.group(2))\n",
    "for var in \"x\", \"y\", \"z\":\n",
    "    m = re.search(f\"{treearg}\\.{var}(?:\\n|[^A-Za-z0-9_])\", source_code)\n",
    "    if m:\n",
    "        print(f\"found row.{var}\")"
   ]
  },
  {
   "cell_type": "code",
   "execution_count": null,
   "id": "4774bee3-f9f3-41a5-b0de-5c4a441d99f3",
   "metadata": {},
   "outputs": [],
   "source": []
  }
 ],
 "metadata": {
  "kernelspec": {
   "display_name": "Python 3.9 (alma9 container)",
   "language": "python",
   "name": "singularity-python-3.9"
  },
  "language_info": {
   "codemirror_mode": {
    "name": "ipython",
    "version": 3
   },
   "file_extension": ".py",
   "mimetype": "text/x-python",
   "name": "python",
   "nbconvert_exporter": "python",
   "pygments_lexer": "ipython3",
   "version": "3.9.18"
  }
 },
 "nbformat": 4,
 "nbformat_minor": 5
}
